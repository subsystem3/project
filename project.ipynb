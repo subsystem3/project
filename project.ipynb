{
 "cells": [
  {
   "attachments": {},
   "cell_type": "markdown",
   "metadata": {},
   "source": [
    "# Project"
   ]
  },
  {
   "attachments": {},
   "cell_type": "markdown",
   "metadata": {},
   "source": [
    "<https://www.analyticsvidhya.com/blog/2021/12/sentiment-analysis-on-tweets-with-lstm-for-beginners/>\n",
    "\n",
    "<https://www.kaggle.com/code/stoicstatic/twitter-sentiment-analysis-for-beginners>"
   ]
  },
  {
   "attachments": {},
   "cell_type": "markdown",
   "metadata": {},
   "source": [
    "## Global Variables"
   ]
  },
  {
   "cell_type": "code",
   "execution_count": 33,
   "metadata": {},
   "outputs": [],
   "source": [
    "SENTIMENT140_TRAIN = \"datasets/training.1600000.processed.noemoticon.csv\"\n",
    "SENTIMENT140_FIELDS = [\"target\", \"ids\", \"date\", \"flag\", \"user\", \"text\"]"
   ]
  },
  {
   "attachments": {},
   "cell_type": "markdown",
   "metadata": {},
   "source": [
    "## Git LFS\n",
    "\n",
    "Pull the datasets from Git LFS"
   ]
  },
  {
   "cell_type": "code",
   "execution_count": 34,
   "metadata": {},
   "outputs": [],
   "source": [
    "!git lfs pull -I \"datasets/training.1600000.processed.noemoticon.csv\""
   ]
  },
  {
   "attachments": {},
   "cell_type": "markdown",
   "metadata": {},
   "source": [
    "## Import, Initialize, & Configure"
   ]
  },
  {
   "attachments": {},
   "cell_type": "markdown",
   "metadata": {},
   "source": [
    "### Environment Variables\n",
    "\n",
    "`python-dotenv` is used to load environment variables from the `.env` file."
   ]
  },
  {
   "cell_type": "code",
   "execution_count": 35,
   "metadata": {},
   "outputs": [
    {
     "data": {
      "text/plain": [
       "True"
      ]
     },
     "execution_count": 35,
     "metadata": {},
     "output_type": "execute_result"
    }
   ],
   "source": [
    "import os\n",
    "import dotenv\n",
    "\n",
    "dotenv.load_dotenv()"
   ]
  },
  {
   "attachments": {},
   "cell_type": "markdown",
   "metadata": {},
   "source": [
    "### numpy\n",
    "\n",
    "`numpy` is used for numerical processing."
   ]
  },
  {
   "cell_type": "code",
   "execution_count": 36,
   "metadata": {},
   "outputs": [],
   "source": [
    "import numpy as np"
   ]
  },
  {
   "attachments": {},
   "cell_type": "markdown",
   "metadata": {},
   "source": [
    "### Seaborn\n",
    "\n",
    "`seaborn` is used to set the default style for plots."
   ]
  },
  {
   "cell_type": "code",
   "execution_count": 37,
   "metadata": {},
   "outputs": [],
   "source": [
    "import seaborn as sns"
   ]
  },
  {
   "attachments": {},
   "cell_type": "markdown",
   "metadata": {},
   "source": [
    "### Matplotlib\n",
    "\n",
    "`matplotlib` is used to plot the data."
   ]
  },
  {
   "cell_type": "code",
   "execution_count": 38,
   "metadata": {},
   "outputs": [],
   "source": [
    "import matplotlib.pyplot as plt"
   ]
  },
  {
   "attachments": {},
   "cell_type": "markdown",
   "metadata": {},
   "source": [
    "### Pandas\n",
    "\n",
    "`pandas` is a Python library for data manipulation and analysis."
   ]
  },
  {
   "cell_type": "code",
   "execution_count": 39,
   "metadata": {},
   "outputs": [],
   "source": [
    "import pandas as pd\n",
    "\n",
    "pd.set_option(\"display.max_colwidth\", 20)"
   ]
  },
  {
   "attachments": {},
   "cell_type": "markdown",
   "metadata": {},
   "source": [
    "### NLTK"
   ]
  },
  {
   "cell_type": "code",
   "execution_count": 52,
   "metadata": {},
   "outputs": [
    {
     "name": "stderr",
     "output_type": "stream",
     "text": [
      "[nltk_data] Downloading package punkt to /Users/juliet/nltk_data...\n",
      "[nltk_data]   Package punkt is already up-to-date!\n",
      "[nltk_data] Downloading package averaged_perceptron_tagger to\n",
      "[nltk_data]     /Users/juliet/nltk_data...\n",
      "[nltk_data]   Package averaged_perceptron_tagger is already up-to-\n",
      "[nltk_data]       date!\n",
      "[nltk_data] Downloading package maxent_ne_chunker to\n",
      "[nltk_data]     /Users/juliet/nltk_data...\n",
      "[nltk_data]   Package maxent_ne_chunker is already up-to-date!\n",
      "[nltk_data] Downloading package words to /Users/juliet/nltk_data...\n",
      "[nltk_data]   Package words is already up-to-date!\n",
      "[nltk_data] Downloading package omw-1.4 to /Users/juliet/nltk_data...\n",
      "[nltk_data]   Package omw-1.4 is already up-to-date!\n",
      "[nltk_data] Downloading package stopwords to\n",
      "[nltk_data]     /Users/juliet/nltk_data...\n",
      "[nltk_data]   Package stopwords is already up-to-date!\n"
     ]
    }
   ],
   "source": [
    "import nltk\n",
    "import string\n",
    "from nltk.corpus import stopwords\n",
    "from nltk.tokenize import word_tokenize\n",
    "from nltk.tokenize import TweetTokenizer\n",
    "from nltk.stem import PorterStemmer, WordNetLemmatizer\n",
    "\n",
    "\n",
    "nltk.download('punkt')\n",
    "nltk.download('averaged_perceptron_tagger')\n",
    "nltk.download('maxent_ne_chunker')\n",
    "nltk.download('words')\n",
    "nltk.download('omw-1.4')\n",
    "nltk.download('stopwords')\n",
    "stop_words = set(stopwords.words('english'))"
   ]
  },
  {
   "attachments": {},
   "cell_type": "markdown",
   "metadata": {},
   "source": [
    "### Weights & Biases\n",
    "\n",
    "[Weights & Biases](https://www.wandb.com/) is used for tracking and visualizing experiments."
   ]
  },
  {
   "cell_type": "code",
   "execution_count": 32,
   "metadata": {},
   "outputs": [
    {
     "ename": "ModuleNotFoundError",
     "evalue": "No module named 'wandb'",
     "output_type": "error",
     "traceback": [
      "\u001b[0;31m---------------------------------------------------------------------------\u001b[0m",
      "\u001b[0;31mModuleNotFoundError\u001b[0m                       Traceback (most recent call last)",
      "\u001b[1;32m/Users/juliet/Desktop/MSAAI/AAI-501/Final Project/project.ipynb Cell 21\u001b[0m in \u001b[0;36m<cell line: 1>\u001b[0;34m()\u001b[0m\n\u001b[0;32m----> <a href='vscode-notebook-cell:/Users/juliet/Desktop/MSAAI/AAI-501/Final%20Project/project.ipynb#X26sZmlsZQ%3D%3D?line=0'>1</a>\u001b[0m \u001b[39mimport\u001b[39;00m \u001b[39mwandb\u001b[39;00m\n\u001b[1;32m      <a href='vscode-notebook-cell:/Users/juliet/Desktop/MSAAI/AAI-501/Final%20Project/project.ipynb#X26sZmlsZQ%3D%3D?line=2'>3</a>\u001b[0m wandb\u001b[39m.\u001b[39mfinish()\n\u001b[1;32m      <a href='vscode-notebook-cell:/Users/juliet/Desktop/MSAAI/AAI-501/Final%20Project/project.ipynb#X26sZmlsZQ%3D%3D?line=3'>4</a>\u001b[0m wandb\u001b[39m.\u001b[39mlogin(key\u001b[39m=\u001b[39mos\u001b[39m.\u001b[39mgetenv(\u001b[39m\"\u001b[39m\u001b[39mWANDB_API_KEY\u001b[39m\u001b[39m\"\u001b[39m))\n",
      "\u001b[0;31mModuleNotFoundError\u001b[0m: No module named 'wandb'"
     ]
    }
   ],
   "source": [
    "import wandb\n",
    "\n",
    "wandb.finish()\n",
    "wandb.login(key=os.getenv(\"WANDB_API_KEY\"))"
   ]
  },
  {
   "cell_type": "code",
   "execution_count": null,
   "metadata": {},
   "outputs": [],
   "source": [
    "# TODO: Should we separate brands by category? e.g. clothing, food, electronics\n",
    "# Define brands of interest\n",
    "brands = ['google', 'facebook', 'microsoft', 'amazon', 'apple', 'walmart', 'nike', 'target', 'starbucks', 'mcdonalds', 'netflix', 'disney']"
   ]
  },
  {
   "attachments": {},
   "cell_type": "markdown",
   "metadata": {},
   "source": [
    "## Exploratory Data Analysis (EDA)"
   ]
  },
  {
   "attachments": {},
   "cell_type": "markdown",
   "metadata": {},
   "source": [
    "### Sentiment140 Dataset\n",
    "\n",
    "<http://help.sentiment140.com/for-students>\n",
    "\n",
    "Sentiment140 is a dataset containing 1.6 million tweets with sentiment labels. \n",
    "\n",
    "It allows you to discover the sentiment of a brand, product, or topic on Twitter. \n",
    "\n",
    "The data is a CSV with emoticons removed. "
   ]
  },
  {
   "cell_type": "code",
   "execution_count": 41,
   "metadata": {},
   "outputs": [],
   "source": [
    "df_train = pd.read_csv(\n",
    "    SENTIMENT140_TRAIN,\n",
    "    encoding=\"ISO-8859-1\",\n",
    "    names=SENTIMENT140_FIELDS,\n",
    "    header=None,\n",
    ")"
   ]
  },
  {
   "cell_type": "code",
   "execution_count": 42,
   "metadata": {},
   "outputs": [
    {
     "data": {
      "text/html": [
       "<div>\n",
       "<style scoped>\n",
       "    .dataframe tbody tr th:only-of-type {\n",
       "        vertical-align: middle;\n",
       "    }\n",
       "\n",
       "    .dataframe tbody tr th {\n",
       "        vertical-align: top;\n",
       "    }\n",
       "\n",
       "    .dataframe thead th {\n",
       "        text-align: right;\n",
       "    }\n",
       "</style>\n",
       "<table border=\"1\" class=\"dataframe\">\n",
       "  <thead>\n",
       "    <tr style=\"text-align: right;\">\n",
       "      <th></th>\n",
       "      <th>target</th>\n",
       "      <th>ids</th>\n",
       "      <th>date</th>\n",
       "      <th>flag</th>\n",
       "      <th>user</th>\n",
       "      <th>text</th>\n",
       "    </tr>\n",
       "  </thead>\n",
       "  <tbody>\n",
       "    <tr>\n",
       "      <th>0</th>\n",
       "      <td>0</td>\n",
       "      <td>1467810369</td>\n",
       "      <td>Mon Apr 06 22:19...</td>\n",
       "      <td>NO_QUERY</td>\n",
       "      <td>_TheSpecialOne_</td>\n",
       "      <td>@switchfoot http...</td>\n",
       "    </tr>\n",
       "    <tr>\n",
       "      <th>1</th>\n",
       "      <td>0</td>\n",
       "      <td>1467810672</td>\n",
       "      <td>Mon Apr 06 22:19...</td>\n",
       "      <td>NO_QUERY</td>\n",
       "      <td>scotthamilton</td>\n",
       "      <td>is upset that he...</td>\n",
       "    </tr>\n",
       "    <tr>\n",
       "      <th>2</th>\n",
       "      <td>0</td>\n",
       "      <td>1467810917</td>\n",
       "      <td>Mon Apr 06 22:19...</td>\n",
       "      <td>NO_QUERY</td>\n",
       "      <td>mattycus</td>\n",
       "      <td>@Kenichan I dive...</td>\n",
       "    </tr>\n",
       "    <tr>\n",
       "      <th>3</th>\n",
       "      <td>0</td>\n",
       "      <td>1467811184</td>\n",
       "      <td>Mon Apr 06 22:19...</td>\n",
       "      <td>NO_QUERY</td>\n",
       "      <td>ElleCTF</td>\n",
       "      <td>my whole body fe...</td>\n",
       "    </tr>\n",
       "    <tr>\n",
       "      <th>4</th>\n",
       "      <td>0</td>\n",
       "      <td>1467811193</td>\n",
       "      <td>Mon Apr 06 22:19...</td>\n",
       "      <td>NO_QUERY</td>\n",
       "      <td>Karoli</td>\n",
       "      <td>@nationwideclass...</td>\n",
       "    </tr>\n",
       "  </tbody>\n",
       "</table>\n",
       "</div>"
      ],
      "text/plain": [
       "   target         ids                 date      flag             user  \\\n",
       "0       0  1467810369  Mon Apr 06 22:19...  NO_QUERY  _TheSpecialOne_   \n",
       "1       0  1467810672  Mon Apr 06 22:19...  NO_QUERY    scotthamilton   \n",
       "2       0  1467810917  Mon Apr 06 22:19...  NO_QUERY         mattycus   \n",
       "3       0  1467811184  Mon Apr 06 22:19...  NO_QUERY          ElleCTF   \n",
       "4       0  1467811193  Mon Apr 06 22:19...  NO_QUERY           Karoli   \n",
       "\n",
       "                  text  \n",
       "0  @switchfoot http...  \n",
       "1  is upset that he...  \n",
       "2  @Kenichan I dive...  \n",
       "3  my whole body fe...  \n",
       "4  @nationwideclass...  "
      ]
     },
     "execution_count": 42,
     "metadata": {},
     "output_type": "execute_result"
    }
   ],
   "source": [
    "df_train.head()"
   ]
  },
  {
   "attachments": {},
   "cell_type": "markdown",
   "metadata": {},
   "source": [
    "The dataset has 6 fields:\n",
    "\n",
    "1. `target` — the polarity of the tweet (0 = negative, 2 = neutral, 4 = positive)\n",
    "1. `id` — the id of the tweet (2087)\n",
    "1. `date` — the date of the tweet (Sat May 16 23:58:44 UTC 2009)\n",
    "1. `flag` — the query (lyx). If there is no query, then this value is NO_QUERY.\n",
    "1. `user` — the user that tweeted (robotickilldozr)\n",
    "1. `text` — the text of the tweet (Lyx is cool)"
   ]
  },
  {
   "cell_type": "code",
   "execution_count": 43,
   "metadata": {},
   "outputs": [
    {
     "name": "stdout",
     "output_type": "stream",
     "text": [
      "df_train.shape: (1600000, 6)\n"
     ]
    }
   ],
   "source": [
    "print(f\"df_train.shape: {df_train.shape}\")"
   ]
  },
  {
   "attachments": {},
   "cell_type": "markdown",
   "metadata": {},
   "source": [
    "### Class Balance\n",
    "\n",
    "We show that the dataset is balanced by counting the number of positive and negative tweets.\n",
    "\n",
    " Balance is important because it means that the model will be trained on an equal number of positive and negative tweets. \n",
    " \n",
    " If the dataset was imbalanced, then the model would be trained on more of one class than the other. \n",
    " \n",
    " This would result in a model that is biased towards the class with more samples."
   ]
  },
  {
   "cell_type": "code",
   "execution_count": 44,
   "metadata": {},
   "outputs": [
    {
     "data": {
      "image/png": "[encoded data removed]",
      "text/plain": [
       "<Figure size 800x600 with 1 Axes>"
      ]
     },
     "metadata": {},
     "output_type": "display_data"
    }
   ],
   "source": [
    "# SHOW SENTIMENT DISTRIBUTION IN TRAINING SET\n",
    "distribution = df_train[\"target\"].value_counts()\n",
    "plt.figure(figsize=(8, 6))\n",
    "sns.barplot(x=distribution.index, y=distribution.values)\n",
    "plt.title(\"Distribution of Sentiment in Sentiment140 Training Set\")\n",
    "plt.xlabel(\"Sentiment\")\n",
    "plt.ylabel(\"Count\")\n",
    "plt.xticks([0, 1], [\"Negative\", \"Positive\"])\n",
    "\n",
    "# ADD COUNTS ABOVE THE BARS\n",
    "for i, v in enumerate(distribution.values):\n",
    "    plt.text(i, v, str(v), ha=\"center\")\n",
    "\n",
    "plt.show()"
   ]
  },
  {
   "attachments": {},
   "cell_type": "markdown",
   "metadata": {},
   "source": [
    "### Word Cloud"
   ]
  },
  {
   "cell_type": "code",
   "execution_count": 45,
   "metadata": {},
   "outputs": [
    {
     "ename": "ModuleNotFoundError",
     "evalue": "No module named 'wordcloud'",
     "output_type": "error",
     "traceback": [
      "\u001b[0;31m---------------------------------------------------------------------------\u001b[0m",
      "\u001b[0;31mModuleNotFoundError\u001b[0m                       Traceback (most recent call last)",
      "\u001b[1;32m/Users/juliet/Desktop/MSAAI/AAI-501/Final Project/project.ipynb Cell 32\u001b[0m in \u001b[0;36m<cell line: 1>\u001b[0;34m()\u001b[0m\n\u001b[0;32m----> <a href='vscode-notebook-cell:/Users/juliet/Desktop/MSAAI/AAI-501/Final%20Project/project.ipynb#X42sZmlsZQ%3D%3D?line=0'>1</a>\u001b[0m \u001b[39mfrom\u001b[39;00m \u001b[39mwordcloud\u001b[39;00m \u001b[39mimport\u001b[39;00m WordCloud\n\u001b[1;32m      <a href='vscode-notebook-cell:/Users/juliet/Desktop/MSAAI/AAI-501/Final%20Project/project.ipynb#X42sZmlsZQ%3D%3D?line=2'>3</a>\u001b[0m wordcloud \u001b[39m=\u001b[39m WordCloud(\n\u001b[1;32m      <a href='vscode-notebook-cell:/Users/juliet/Desktop/MSAAI/AAI-501/Final%20Project/project.ipynb#X42sZmlsZQ%3D%3D?line=3'>4</a>\u001b[0m     width\u001b[39m=\u001b[39m\u001b[39m1600\u001b[39m,\n\u001b[1;32m      <a href='vscode-notebook-cell:/Users/juliet/Desktop/MSAAI/AAI-501/Final%20Project/project.ipynb#X42sZmlsZQ%3D%3D?line=4'>5</a>\u001b[0m     height\u001b[39m=\u001b[39m\u001b[39m800\u001b[39m,\n\u001b[0;32m   (...)\u001b[0m\n\u001b[1;32m      <a href='vscode-notebook-cell:/Users/juliet/Desktop/MSAAI/AAI-501/Final%20Project/project.ipynb#X42sZmlsZQ%3D%3D?line=8'>9</a>\u001b[0m     collocations\u001b[39m=\u001b[39m\u001b[39mFalse\u001b[39;00m,\n\u001b[1;32m     <a href='vscode-notebook-cell:/Users/juliet/Desktop/MSAAI/AAI-501/Final%20Project/project.ipynb#X42sZmlsZQ%3D%3D?line=9'>10</a>\u001b[0m )\n\u001b[1;32m     <a href='vscode-notebook-cell:/Users/juliet/Desktop/MSAAI/AAI-501/Final%20Project/project.ipynb#X42sZmlsZQ%3D%3D?line=10'>11</a>\u001b[0m wordcloud\u001b[39m.\u001b[39mgenerate(\u001b[39m\"\u001b[39m\u001b[39m \u001b[39m\u001b[39m\"\u001b[39m\u001b[39m.\u001b[39mjoin(df_train[\u001b[39m\"\u001b[39m\u001b[39mtext\u001b[39m\u001b[39m\"\u001b[39m]\u001b[39m.\u001b[39mtolist()))\n",
      "\u001b[0;31mModuleNotFoundError\u001b[0m: No module named 'wordcloud'"
     ]
    }
   ],
   "source": [
    "from wordcloud import WordCloud\n",
    "\n",
    "wordcloud = WordCloud(\n",
    "    width=1600,\n",
    "    height=800,\n",
    "    background_color=\"white\",\n",
    "    min_font_size=10,\n",
    "    max_words=1000,\n",
    "    collocations=False,\n",
    ")\n",
    "wordcloud.generate(\" \".join(df_train[\"text\"].tolist()))\n",
    "\n",
    "plt.figure(figsize=(8, 8))\n",
    "plt.imshow(wordcloud)\n",
    "plt.axis(\"off\")\n",
    "plt.show()"
   ]
  },
  {
   "attachments": {},
   "cell_type": "markdown",
   "metadata": {},
   "source": [
    "## Preprocessing"
   ]
  },
  {
   "attachments": {},
   "cell_type": "markdown",
   "metadata": {},
   "source": [
    "Preprocessing is traditionally an important step for Natural Language Processing (NLP) tasks. It transforms text into a more digestible form so that machine learning algorithms can perform better.\n",
    "\n",
    "Preprocessing steps include:\n",
    "\n",
    "* Lower Casing: Each text is converted to lowercase.\n",
    "* Replacing URLs: Links starting with \"http\" or \"https\" or \"www\" are replaced by \"URL\".\n",
    "* Replacing Emojis: Replace emojis by using a pre-defined dictionary containing emojis along with their meaning. (eg: \":)\" to \"EMOJIsmile\")\n",
    "* Replacing Usernames: Replace @Usernames with word \"USER\". (eg: \"@Kaggle\" to \"USER\")\n",
    "* Removing Non-Alphabets: Replacing characters except Digits and Alphabets with a space.\n",
    "* Removing Consecutive letters: 3 or more consecutive letters are replaced by 2 letters. (eg: \"Heyyyy\" to \"Heyy\")\n",
    "* Removing Short Words: Words with length less than 2 are removed.\n",
    "* Removing Stopwords: Stopwords are the English words which does not add much meaning to a sentence. They can safely be ignored without sacrificing the meaning of the sentence. (eg: \"the\", \"he\", \"have\")\n",
    "* Lemmatizing: Lemmatization is the process of converting a word to its base form. (e.g: \"Great\" to \"Good\")"
   ]
  },
  {
   "cell_type": "code",
   "execution_count": 46,
   "metadata": {},
   "outputs": [],
   "source": [
    "# REMOVE UNNECESSARY COLUMNS\n",
    "df_train = df_train[[\"text\", \"target\"]]"
   ]
  },
  {
   "attachments": {},
   "cell_type": "markdown",
   "metadata": {},
   "source": [
    "Re-map sentiment labels to be `0 = negative` and `1 = positive` instead of of `4 = positive`."
   ]
  },
  {
   "cell_type": "code",
   "execution_count": 47,
   "metadata": {},
   "outputs": [],
   "source": [
    "df_train[\"target\"] = df_train[\"target\"].replace(4, 1)"
   ]
  },
  {
   "cell_type": "code",
   "execution_count": 48,
   "metadata": {},
   "outputs": [
    {
     "data": {
      "text/plain": [
       "0          0\n",
       "1          0\n",
       "2          0\n",
       "3          0\n",
       "4          0\n",
       "          ..\n",
       "1599995    1\n",
       "1599996    1\n",
       "1599997    1\n",
       "1599998    1\n",
       "1599999    1\n",
       "Name: target, Length: 1600000, dtype: int64"
      ]
     },
     "execution_count": 48,
     "metadata": {},
     "output_type": "execute_result"
    }
   ],
   "source": [
    "# CHECK\n",
    "df_train[\"target\"]"
   ]
  },
  {
   "cell_type": "code",
   "execution_count": 68,
   "metadata": {},
   "outputs": [
    {
     "name": "stdout",
     "output_type": "stream",
     "text": [
      "Tweets sample:\n",
      "I LOVE @Health4UandPets u guys r the best!! \n",
      "im meeting up with one of my besties tonight! Cant wait!!  - GIRL TALK!!\n",
      "@DaRealSunisaKim Thanks for the Twitter add, Sunisa! I got to meet you once at a HIN show here in the DC area and you were a sweetheart. \n",
      "Being sick can be really cheap when it hurts too much to eat real food  Plus, your friends make you soup\n",
      "@LovesBrooklyn2 he has that effect on everyone \n",
      "After tokenization:\n",
      "['I', 'LOVE', '@Health4UandPets', 'u', 'guys', 'r', 'the', 'best', '!', '!']\n",
      "['im', 'meeting', 'up', 'with', 'one', 'of', 'my', 'besties', 'tonight', '!', 'Cant', 'wait', '!', '!', '-', 'GIRL', 'TALK', '!', '!']\n",
      "['@DaRealSunisaKim', 'Thanks', 'for', 'the', 'Twitter', 'add', ',', 'Sunisa', '!', 'I', 'got', 'to', 'meet', 'you', 'once', 'at', 'a', 'HIN', 'show', 'here', 'in', 'the', 'DC', 'area', 'and', 'you', 'were', 'a', 'sweetheart', '.']\n",
      "['Being', 'sick', 'can', 'be', 'really', 'cheap', 'when', 'it', 'hurts', 'too', 'much', 'to', 'eat', 'real', 'food', 'Plus', ',', 'your', 'friends', 'make', 'you', 'soup']\n",
      "['@LovesBrooklyn2', 'he', 'has', 'that', 'effect', 'on', 'everyone']\n",
      "After removing stop words and punctuation:\n",
      "['I', 'LOVE', '@Health4UandPets', 'u', 'guys', 'r', 'best']\n",
      "['im', 'meeting', 'one', 'besties', 'tonight', 'Cant', 'wait', 'GIRL', 'TALK']\n",
      "['@DaRealSunisaKim', 'Thanks', 'Twitter', 'add', 'Sunisa', 'I', 'got', 'meet', 'HIN', 'show', 'DC', 'area', 'sweetheart']\n",
      "['Being', 'sick', 'really', 'cheap', 'hurts', 'much', 'eat', 'real', 'food', 'Plus', 'friends', 'make', 'soup']\n",
      "['@LovesBrooklyn2', 'effect', 'everyone']\n",
      "After stemming:\n",
      "['i', 'love', '@health4uandpet', 'u', 'guy', 'r', 'best']\n",
      "['im', 'meet', 'one', 'besti', 'tonight', 'cant', 'wait', 'girl', 'talk']\n",
      "['@darealsunisakim', 'thank', 'twitter', 'add', 'sunisa', 'i', 'got', 'meet', 'hin', 'show', 'dc', 'area', 'sweetheart']\n",
      "['be', 'sick', 'realli', 'cheap', 'hurt', 'much', 'eat', 'real', 'food', 'plu', 'friend', 'make', 'soup']\n",
      "['@lovesbrooklyn2', 'effect', 'everyon']\n",
      "['@switchfoot', 'http://twitpic.com/2y1zl', 'awww', \"that'\", 'bummer', 'you', 'shoulda', 'got', 'david', 'carr', 'third', 'day', ';d']\n",
      "['upset', \"can't\", 'updat', 'facebook', 'text', '...', 'might', 'cri', 'result', 'school', 'today', 'also', 'blah']\n",
      "['@kenichan', 'i', 'dive', 'mani', 'time', 'ball', 'manag', 'save', '50', 'the', 'rest', 'go', 'bound']\n",
      "['whole', 'bodi', 'feel', 'itchi', 'like', 'fire']\n",
      "['@nationwideclass', 'behav', \"i'm\", 'mad', 'i', \"can't\", 'see']\n"
     ]
    }
   ],
   "source": [
    "# Select sample of tweets to demonstrate preprocessing steps\n",
    "tweets_sample = df_train[df_train[\"target\"] == 1].head()\n",
    "\n",
    "def pretty_print_column(text):\n",
    "    print(*text.tolist(), sep='\\n')\n",
    "\n",
    "print('Tweets sample:')\n",
    "pretty_print_column(tweets_sample[\"text\"])\n",
    "\n",
    "# Initialize twitter-specific tokenizer\n",
    "tweet_tokenizer = TweetTokenizer()\n",
    "\n",
    "# Initialize stemmer\n",
    "stemmer = PorterStemmer()\n",
    "\n",
    "def tokenize_tweets(tweet):\n",
    "    # Use twitter-specific tokenizer to tokenize tweets\n",
    "    tokens = tweet_tokenizer.tokenize(tweet)\n",
    "    return tokens\n",
    "\n",
    "print('After tokenization:')\n",
    "tweets_sample.text = tweets_sample.text.apply(tokenize_tweets)\n",
    "pretty_print_column(tweets_sample.text)\n",
    "\n",
    "def remove_stopwords_twitter_specific(tokens):\n",
    "    # Filter stop words and punctuation from tweet\n",
    "    filtered_tweet = [word for word in tokens if not word in stop_words and not word in string.punctuation]\n",
    "    return filtered_tweet\n",
    "\n",
    "print('After removing stop words and punctuation:')\n",
    "tweets_sample.text = tweets_sample.text.apply(remove_stopwords_twitter_specific)\n",
    "pretty_print_column(tweets_sample.text)\n",
    "\n",
    "# NOTE: Use either stemming or lemmatization, not both (stemming is probably better for a dataset for this size)\n",
    "def apply_stemming(tweet_tokens):\n",
    "    stemmed = [stemmer.stem(word) for word in tweet_tokens]\n",
    "    return stemmed\n",
    "\n",
    "print('After stemming:')\n",
    "tweets_sample.text = tweets_sample.text.apply(apply_stemming)\n",
    "pretty_print_column(tweets_sample.text)\n",
    "\n",
    "\n",
    "# Combine into one method to be used on full data\n",
    "def preprocess(tweets):\n",
    "    tokens = tokenize_tweets(tweets)\n",
    "    filtered = remove_stopwords_twitter_specific(tokens)\n",
    "    stemmed = apply_stemming(filtered)\n",
    "    return stemmed\n",
    "\n",
    "df_train[\"text\"] = df_train[\"text\"].apply(preprocess)\n",
    "pretty_print_column(df_train[\"text\"].head())"
   ]
  },
  {
   "attachments": {},
   "cell_type": "markdown",
   "metadata": {},
   "source": [
    "### Stopwords\n",
    "\n",
    "Stopwords like \"the\", \"a\", and \"is\" are so common that they are not useful for training the model.\n",
    "\n",
    "The `nltk` library is used to remove stopwords."
   ]
  },
  {
   "cell_type": "code",
   "execution_count": 17,
   "metadata": {},
   "outputs": [],
   "source": [
    "# import re\n",
    "# import nltk\n",
    "\n",
    "# nltk.download(\"stopwords\")\n",
    "# from nltk.corpus import stopwords\n",
    "# from nltk.stem.porter import PorterStemmer\n",
    "\n",
    "# corpus = []\n",
    "# for i in range(0, int(df_train.shape[0])):\n",
    "#     text = re.sub(\"[^a-zA-z]\", \" \", df_train[\"text\"][i])\n",
    "#     text = text.lower()\n",
    "#     text = text.split()\n",
    "#     ps = PorterStemmer()\n",
    "#     all_stopwords = stopwords.words(\"english\")\n",
    "#     all_stopwords.remove(\"not\")\n",
    "#     text = [ps.stem(word) for word in text if not word in set(all_stopwords)]\n",
    "#     text = \" \".join(text)\n",
    "#     corpus.append(text)"
   ]
  },
  {
   "attachments": {},
   "cell_type": "markdown",
   "metadata": {},
   "source": [
    "### Stemming/Lemmatization\n",
    "\n",
    "Stemming and lemmatization are used to reduce words to their root form.\n",
    "\n",
    "We do this because many words have the same meaning but are written differently.\n",
    "\n",
    "For example, \"run\", \"runs\", and \"running\" all have the same meaning.\n",
    "\n",
    "This will reduce the number of unique words in the dataset."
   ]
  },
  {
   "cell_type": "code",
   "execution_count": 18,
   "metadata": {},
   "outputs": [],
   "source": [
    "# TODO: STEMMING/LEMMATIZATION"
   ]
  },
  {
   "attachments": {},
   "cell_type": "markdown",
   "metadata": {},
   "source": [
    "### Split the dataset into train and test sets"
   ]
  },
  {
   "cell_type": "code",
   "execution_count": 19,
   "metadata": {},
   "outputs": [],
   "source": [
    "from sklearn.model_selection import train_test_split\n",
    "\n",
    "X_train, X_test, y_train, y_test = train_test_split(\n",
    "    df_train[\"text\"], df_train[\"target\"], test_size=0.2, random_state=42\n",
    ")"
   ]
  },
  {
   "attachments": {},
   "cell_type": "markdown",
   "metadata": {},
   "source": [
    "### TF-IDF Vectoriser\n",
    "\n",
    "TF-IDF indicates what the importance of the word is in order to understand the document or dataset. Let us understand with an example. Suppose you have a dataset where students write an essay on the topic, My House. In this dataset, the word a appears many times; it’s a high frequency word compared to other words in the dataset. The dataset contains other words like home, house, rooms and so on that appear less often, so their frequency are lower and they carry more information compared to the word. This is the intuition behind TF-IDF.\n",
    "\n",
    "TF-IDF Vectoriser converts a collection of raw documents to a matrix of TF-IDF features. The Vectoriser is usually trained on only the X_train dataset.\n",
    "\n",
    "ngram_range is the range of number of words in a sequence. [e.g \"very expensive\" is a 2-gram that is considered as an extra feature separately from \"very\" and \"expensive\" when you have a n-gram range of (1,2)]\n",
    "\n",
    "max_features specifies the number of features to consider. [Ordered by feature frequency across the corpus]."
   ]
  },
  {
   "cell_type": "code",
   "execution_count": 20,
   "metadata": {},
   "outputs": [
    {
     "data": {
      "text/html": [
       "<style>#sk-container-id-1 {color: black;}#sk-container-id-1 pre{padding: 0;}#sk-container-id-1 div.sk-toggleable {background-color: white;}#sk-container-id-1 label.sk-toggleable__label {cursor: pointer;display: block;width: 100%;margin-bottom: 0;padding: 0.3em;box-sizing: border-box;text-align: center;}#sk-container-id-1 label.sk-toggleable__label-arrow:before {content: \"▸\";float: left;margin-right: 0.25em;color: #696969;}#sk-container-id-1 label.sk-toggleable__label-arrow:hover:before {color: black;}#sk-container-id-1 div.sk-estimator:hover label.sk-toggleable__label-arrow:before {color: black;}#sk-container-id-1 div.sk-toggleable__content {max-height: 0;max-width: 0;overflow: hidden;text-align: left;background-color: #f0f8ff;}#sk-container-id-1 div.sk-toggleable__content pre {margin: 0.2em;color: black;border-radius: 0.25em;background-color: #f0f8ff;}#sk-container-id-1 input.sk-toggleable__control:checked~div.sk-toggleable__content {max-height: 200px;max-width: 100%;overflow: auto;}#sk-container-id-1 input.sk-toggleable__control:checked~label.sk-toggleable__label-arrow:before {content: \"▾\";}#sk-container-id-1 div.sk-estimator input.sk-toggleable__control:checked~label.sk-toggleable__label {background-color: #d4ebff;}#sk-container-id-1 div.sk-label input.sk-toggleable__control:checked~label.sk-toggleable__label {background-color: #d4ebff;}#sk-container-id-1 input.sk-hidden--visually {border: 0;clip: rect(1px 1px 1px 1px);clip: rect(1px, 1px, 1px, 1px);height: 1px;margin: -1px;overflow: hidden;padding: 0;position: absolute;width: 1px;}#sk-container-id-1 div.sk-estimator {font-family: monospace;background-color: #f0f8ff;border: 1px dotted black;border-radius: 0.25em;box-sizing: border-box;margin-bottom: 0.5em;}#sk-container-id-1 div.sk-estimator:hover {background-color: #d4ebff;}#sk-container-id-1 div.sk-parallel-item::after {content: \"\";width: 100%;border-bottom: 1px solid gray;flex-grow: 1;}#sk-container-id-1 div.sk-label:hover label.sk-toggleable__label {background-color: #d4ebff;}#sk-container-id-1 div.sk-serial::before {content: \"\";position: absolute;border-left: 1px solid gray;box-sizing: border-box;top: 0;bottom: 0;left: 50%;z-index: 0;}#sk-container-id-1 div.sk-serial {display: flex;flex-direction: column;align-items: center;background-color: white;padding-right: 0.2em;padding-left: 0.2em;position: relative;}#sk-container-id-1 div.sk-item {position: relative;z-index: 1;}#sk-container-id-1 div.sk-parallel {display: flex;align-items: stretch;justify-content: center;background-color: white;position: relative;}#sk-container-id-1 div.sk-item::before, #sk-container-id-1 div.sk-parallel-item::before {content: \"\";position: absolute;border-left: 1px solid gray;box-sizing: border-box;top: 0;bottom: 0;left: 50%;z-index: -1;}#sk-container-id-1 div.sk-parallel-item {display: flex;flex-direction: column;z-index: 1;position: relative;background-color: white;}#sk-container-id-1 div.sk-parallel-item:first-child::after {align-self: flex-end;width: 50%;}#sk-container-id-1 div.sk-parallel-item:last-child::after {align-self: flex-start;width: 50%;}#sk-container-id-1 div.sk-parallel-item:only-child::after {width: 0;}#sk-container-id-1 div.sk-dashed-wrapped {border: 1px dashed gray;margin: 0 0.4em 0.5em 0.4em;box-sizing: border-box;padding-bottom: 0.4em;background-color: white;}#sk-container-id-1 div.sk-label label {font-family: monospace;font-weight: bold;display: inline-block;line-height: 1.2em;}#sk-container-id-1 div.sk-label-container {text-align: center;}#sk-container-id-1 div.sk-container {/* jupyter's `normalize.less` sets `[hidden] { display: none; }` but bootstrap.min.css set `[hidden] { display: none !important; }` so we also need the `!important` here to be able to override the default hidden behavior on the sphinx rendered scikit-learn.org. See: https://github.com/scikit-learn/scikit-learn/issues/21755 */display: inline-block !important;position: relative;}#sk-container-id-1 div.sk-text-repr-fallback {display: none;}</style><div id=\"sk-container-id-1\" class=\"sk-top-container\"><div class=\"sk-text-repr-fallback\"><pre>TfidfVectorizer(max_features=500000, ngram_range=(1, 2))</pre><b>In a Jupyter environment, please rerun this cell to show the HTML representation or trust the notebook. <br />On GitHub, the HTML representation is unable to render, please try loading this page with nbviewer.org.</b></div><div class=\"sk-container\" hidden><div class=\"sk-item\"><div class=\"sk-estimator sk-toggleable\"><input class=\"sk-toggleable__control sk-hidden--visually\" id=\"sk-estimator-id-1\" type=\"checkbox\" checked><label for=\"sk-estimator-id-1\" class=\"sk-toggleable__label sk-toggleable__label-arrow\">TfidfVectorizer</label><div class=\"sk-toggleable__content\"><pre>TfidfVectorizer(max_features=500000, ngram_range=(1, 2))</pre></div></div></div></div></div>"
      ],
      "text/plain": [
       "TfidfVectorizer(max_features=500000, ngram_range=(1, 2))"
      ]
     },
     "execution_count": 20,
     "metadata": {},
     "output_type": "execute_result"
    }
   ],
   "source": [
    "from sklearn.feature_extraction.text import TfidfVectorizer\n",
    "\n",
    "vectoriser = TfidfVectorizer(ngram_range=(1, 2), max_features=500000)\n",
    "vectoriser.fit(X_train)"
   ]
  },
  {
   "attachments": {},
   "cell_type": "markdown",
   "metadata": {},
   "source": [
    "### Tranforming the dataset\n",
    "\n",
    "Transforming the X_train and X_test dataset into matrix of TF-IDF Features by using the TF-IDF Vectoriser. This datasets will be used to train the model and test against it."
   ]
  },
  {
   "cell_type": "code",
   "execution_count": 21,
   "metadata": {},
   "outputs": [],
   "source": [
    "X_train = vectoriser.transform(X_train)\n",
    "X_test = vectoriser.transform(X_test)"
   ]
  },
  {
   "attachments": {},
   "cell_type": "markdown",
   "metadata": {},
   "source": [
    "## Build & Evaluate Models"
   ]
  },
  {
   "cell_type": "code",
   "execution_count": 22,
   "metadata": {},
   "outputs": [],
   "source": [
    "from sklearn.metrics import (\n",
    "    accuracy_score,\n",
    "    f1_score,\n",
    "    precision_score,\n",
    "    recall_score,\n",
    "    roc_auc_score,\n",
    "    confusion_matrix,\n",
    "    classification_report,\n",
    ")"
   ]
  },
  {
   "cell_type": "code",
   "execution_count": 23,
   "metadata": {},
   "outputs": [],
   "source": [
    "import datetime\n",
    "import joblib\n",
    "\n",
    "\n",
    "def model_Evaluate(model):\n",
    "    with wandb.init(\n",
    "        project=\"project\",\n",
    "        config={\"model\": model},\n",
    "        name=f\"{datetime.datetime.now().strftime('%Y-%m-%d_%H:%M:%S')}_{model}\",\n",
    "    ) as run:\n",
    "        # PREDICT VALUES FROM TEST DATASET\n",
    "        y_pred = model.predict(X_test)\n",
    "\n",
    "        # PRINT THE CLASSIFICATION REPORT\n",
    "        print(classification_report(y_test, y_pred))\n",
    "\n",
    "        # COMPUTE AND PLOT CONFUSION MATRIX\n",
    "        cf_matrix = confusion_matrix(y_test, y_pred)\n",
    "        categories = [\"Negative\", \"Positive\"]\n",
    "        group_names = [\"True Neg\", \"False Pos\", \"False Neg\", \"True Pos\"]\n",
    "        group_percentages = [\n",
    "            \"{0:.2%}\".format(value) for value in cf_matrix.flatten() / np.sum(cf_matrix)\n",
    "        ]\n",
    "        labels = [f\"{v1}\\n{v2}\" for v1, v2 in zip(group_names, group_percentages)]\n",
    "        labels = np.asarray(labels).reshape(2, 2)\n",
    "        sns.heatmap(\n",
    "            cf_matrix,\n",
    "            annot=labels,\n",
    "            cmap=\"Blues\",\n",
    "            fmt=\"\",\n",
    "            xticklabels=categories,\n",
    "            yticklabels=categories,\n",
    "        )\n",
    "        plt.xlabel(\"Predicted values\", fontdict={\"size\": 14}, labelpad=10)\n",
    "        plt.ylabel(\"Actual values\", fontdict={\"size\": 14}, labelpad=10)\n",
    "        plt.title(\"Confusion Matrix\", fontdict={\"size\": 18}, pad=20)\n",
    "\n",
    "        # LOG TO W&B\n",
    "        wandb.log(\n",
    "            {\n",
    "                \"accuracy\": accuracy_score(y_test, y_pred),\n",
    "                \"precision\": precision_score(\n",
    "                    y_test, y_pred, average=\"weighted\", zero_division=1\n",
    "                ),\n",
    "                \"recall\": recall_score(y_test, y_pred, average=\"weighted\"),\n",
    "                \"f1\": f1_score(y_test, y_pred, average=\"weighted\"),\n",
    "                \"roc_auc\": roc_auc_score(y_test, y_pred),\n",
    "                \"confusion_matrix\": wandb.Image(plt),   \n",
    "            }\n",
    "        )\n",
    "\n",
    "        # LOG MODEL\n",
    "        artifact = wandb.Artifact(\"model\", type=\"model\")\n",
    "        joblib.dump(model, \"model.pkl\")\n",
    "        artifact.add_file(\"model.pkl\")\n",
    "        run.log_artifact(artifact)\n",
    "        os.remove(\"model.pkl\")"
   ]
  },
  {
   "attachments": {},
   "cell_type": "markdown",
   "metadata": {},
   "source": [
    "### Bernoulli Naive Bayes"
   ]
  },
  {
   "cell_type": "code",
   "execution_count": 24,
   "metadata": {},
   "outputs": [
    {
     "data": {
      "text/html": [
       "Tracking run with wandb version 0.15.5"
      ],
      "text/plain": [
       "<IPython.core.display.HTML object>"
      ]
     },
     "metadata": {},
     "output_type": "display_data"
    },
    {
     "data": {
      "text/html": [
       "Run data is saved locally in <code>/home/user/project/wandb/run-20230717_053130-4km3kc0a</code>"
      ],
      "text/plain": [
       "<IPython.core.display.HTML object>"
      ]
     },
     "metadata": {},
     "output_type": "display_data"
    },
    {
     "data": {
      "text/html": [
       "Syncing run <strong><a href='https://wandb.ai/subsystem3/project/runs/4km3kc0a' target=\"_blank\">2023-07-17_05:31:30_BernoulliNB(alpha=2)</a></strong> to <a href='https://wandb.ai/subsystem3/project' target=\"_blank\">Weights & Biases</a> (<a href='https://wandb.me/run' target=\"_blank\">docs</a>)<br/>"
      ],
      "text/plain": [
       "<IPython.core.display.HTML object>"
      ]
     },
     "metadata": {},
     "output_type": "display_data"
    },
    {
     "data": {
      "text/html": [
       " View project at <a href='https://wandb.ai/subsystem3/project' target=\"_blank\">https://wandb.ai/subsystem3/project</a>"
      ],
      "text/plain": [
       "<IPython.core.display.HTML object>"
      ]
     },
     "metadata": {},
     "output_type": "display_data"
    },
    {
     "data": {
      "text/html": [
       " View run at <a href='https://wandb.ai/subsystem3/project/runs/4km3kc0a' target=\"_blank\">https://wandb.ai/subsystem3/project/runs/4km3kc0a</a>"
      ],
      "text/plain": [
       "<IPython.core.display.HTML object>"
      ]
     },
     "metadata": {},
     "output_type": "display_data"
    },
    {
     "name": "stdout",
     "output_type": "stream",
     "text": [
      "              precision    recall  f1-score   support\n",
      "\n",
      "           0       0.80      0.79      0.80    159494\n",
      "           1       0.80      0.81      0.80    160506\n",
      "\n",
      "    accuracy                           0.80    320000\n",
      "   macro avg       0.80      0.80      0.80    320000\n",
      "weighted avg       0.80      0.80      0.80    320000\n",
      "\n"
     ]
    },
    {
     "data": {
      "text/html": [
       "Waiting for W&B process to finish... <strong style=\"color:green\">(success).</strong>"
      ],
      "text/plain": [
       "<IPython.core.display.HTML object>"
      ]
     },
     "metadata": {},
     "output_type": "display_data"
    },
    {
     "data": {
      "text/html": [
       "<style>\n",
       "    table.wandb td:nth-child(1) { padding: 0 10px; text-align: left ; width: auto;} td:nth-child(2) {text-align: left ; width: 100%}\n",
       "    .wandb-row { display: flex; flex-direction: row; flex-wrap: wrap; justify-content: flex-start; width: 100% }\n",
       "    .wandb-col { display: flex; flex-direction: column; flex-basis: 100%; flex: 1; padding: 10px; }\n",
       "    </style>\n",
       "<div class=\"wandb-row\"><div class=\"wandb-col\"><h3>Run history:</h3><br/><table class=\"wandb\"><tr><td>accuracy</td><td>▁</td></tr><tr><td>f1</td><td>▁</td></tr><tr><td>precision</td><td>▁</td></tr><tr><td>recall</td><td>▁</td></tr><tr><td>roc_auc</td><td>▁</td></tr></table><br/></div><div class=\"wandb-col\"><h3>Run summary:</h3><br/><table class=\"wandb\"><tr><td>accuracy</td><td>0.79946</td></tr><tr><td>f1</td><td>0.79945</td></tr><tr><td>precision</td><td>0.79952</td></tr><tr><td>recall</td><td>0.79946</td></tr><tr><td>roc_auc</td><td>0.79944</td></tr></table><br/></div></div>"
      ],
      "text/plain": [
       "<IPython.core.display.HTML object>"
      ]
     },
     "metadata": {},
     "output_type": "display_data"
    },
    {
     "data": {
      "text/html": [
       " View run <strong style=\"color:#cdcd00\">2023-07-17_05:31:30_BernoulliNB(alpha=2)</strong> at: <a href='https://wandb.ai/subsystem3/project/runs/4km3kc0a' target=\"_blank\">https://wandb.ai/subsystem3/project/runs/4km3kc0a</a><br/>Synced 6 W&B file(s), 1 media file(s), 1 artifact file(s) and 0 other file(s)"
      ],
      "text/plain": [
       "<IPython.core.display.HTML object>"
      ]
     },
     "metadata": {},
     "output_type": "display_data"
    },
    {
     "data": {
      "text/html": [
       "Find logs at: <code>./wandb/run-20230717_053130-4km3kc0a/logs</code>"
      ],
      "text/plain": [
       "<IPython.core.display.HTML object>"
      ]
     },
     "metadata": {},
     "output_type": "display_data"
    },
    {
     "data": {
      "image/png": "[encoded data removed]",
      "text/plain": [
       "<Figure size 640x480 with 2 Axes>"
      ]
     },
     "metadata": {},
     "output_type": "display_data"
    }
   ],
   "source": [
    "from sklearn.naive_bayes import BernoulliNB\n",
    "\n",
    "BNBmodel = BernoulliNB(alpha=2)\n",
    "BNBmodel.fit(X_train, y_train)\n",
    "model_Evaluate(BNBmodel)"
   ]
  },
  {
   "attachments": {},
   "cell_type": "markdown",
   "metadata": {},
   "source": [
    "### Linear Support Vector Classification"
   ]
  },
  {
   "cell_type": "code",
   "execution_count": 25,
   "metadata": {},
   "outputs": [
    {
     "data": {
      "text/html": [
       "Tracking run with wandb version 0.15.5"
      ],
      "text/plain": [
       "<IPython.core.display.HTML object>"
      ]
     },
     "metadata": {},
     "output_type": "display_data"
    },
    {
     "data": {
      "text/html": [
       "Run data is saved locally in <code>/home/user/project/wandb/run-20230717_053255-nk1qujno</code>"
      ],
      "text/plain": [
       "<IPython.core.display.HTML object>"
      ]
     },
     "metadata": {},
     "output_type": "display_data"
    },
    {
     "data": {
      "text/html": [
       "Syncing run <strong><a href='https://wandb.ai/subsystem3/project/runs/nk1qujno' target=\"_blank\">2023-07-17_05:32:55_LinearSVC(dual=False)</a></strong> to <a href='https://wandb.ai/subsystem3/project' target=\"_blank\">Weights & Biases</a> (<a href='https://wandb.me/run' target=\"_blank\">docs</a>)<br/>"
      ],
      "text/plain": [
       "<IPython.core.display.HTML object>"
      ]
     },
     "metadata": {},
     "output_type": "display_data"
    },
    {
     "data": {
      "text/html": [
       " View project at <a href='https://wandb.ai/subsystem3/project' target=\"_blank\">https://wandb.ai/subsystem3/project</a>"
      ],
      "text/plain": [
       "<IPython.core.display.HTML object>"
      ]
     },
     "metadata": {},
     "output_type": "display_data"
    },
    {
     "data": {
      "text/html": [
       " View run at <a href='https://wandb.ai/subsystem3/project/runs/nk1qujno' target=\"_blank\">https://wandb.ai/subsystem3/project/runs/nk1qujno</a>"
      ],
      "text/plain": [
       "<IPython.core.display.HTML object>"
      ]
     },
     "metadata": {},
     "output_type": "display_data"
    },
    {
     "name": "stdout",
     "output_type": "stream",
     "text": [
      "              precision    recall  f1-score   support\n",
      "\n",
      "           0       0.82      0.81      0.81    159494\n",
      "           1       0.81      0.82      0.82    160506\n",
      "\n",
      "    accuracy                           0.81    320000\n",
      "   macro avg       0.81      0.81      0.81    320000\n",
      "weighted avg       0.81      0.81      0.81    320000\n",
      "\n"
     ]
    },
    {
     "data": {
      "text/html": [
       "Waiting for W&B process to finish... <strong style=\"color:green\">(success).</strong>"
      ],
      "text/plain": [
       "<IPython.core.display.HTML object>"
      ]
     },
     "metadata": {},
     "output_type": "display_data"
    },
    {
     "data": {
      "text/html": [
       "<style>\n",
       "    table.wandb td:nth-child(1) { padding: 0 10px; text-align: left ; width: auto;} td:nth-child(2) {text-align: left ; width: 100%}\n",
       "    .wandb-row { display: flex; flex-direction: row; flex-wrap: wrap; justify-content: flex-start; width: 100% }\n",
       "    .wandb-col { display: flex; flex-direction: column; flex-basis: 100%; flex: 1; padding: 10px; }\n",
       "    </style>\n",
       "<div class=\"wandb-row\"><div class=\"wandb-col\"><h3>Run history:</h3><br/><table class=\"wandb\"><tr><td>accuracy</td><td>▁</td></tr><tr><td>f1</td><td>▁</td></tr><tr><td>precision</td><td>▁</td></tr><tr><td>recall</td><td>▁</td></tr><tr><td>roc_auc</td><td>▁</td></tr></table><br/></div><div class=\"wandb-col\"><h3>Run summary:</h3><br/><table class=\"wandb\"><tr><td>accuracy</td><td>0.81479</td></tr><tr><td>f1</td><td>0.81478</td></tr><tr><td>precision</td><td>0.81484</td></tr><tr><td>recall</td><td>0.81479</td></tr><tr><td>roc_auc</td><td>0.81477</td></tr></table><br/></div></div>"
      ],
      "text/plain": [
       "<IPython.core.display.HTML object>"
      ]
     },
     "metadata": {},
     "output_type": "display_data"
    },
    {
     "data": {
      "text/html": [
       " View run <strong style=\"color:#cdcd00\">2023-07-17_05:32:55_LinearSVC(dual=False)</strong> at: <a href='https://wandb.ai/subsystem3/project/runs/nk1qujno' target=\"_blank\">https://wandb.ai/subsystem3/project/runs/nk1qujno</a><br/>Synced 6 W&B file(s), 1 media file(s), 1 artifact file(s) and 0 other file(s)"
      ],
      "text/plain": [
       "<IPython.core.display.HTML object>"
      ]
     },
     "metadata": {},
     "output_type": "display_data"
    },
    {
     "data": {
      "text/html": [
       "Find logs at: <code>./wandb/run-20230717_053255-nk1qujno/logs</code>"
      ],
      "text/plain": [
       "<IPython.core.display.HTML object>"
      ]
     },
     "metadata": {},
     "output_type": "display_data"
    },
    {
     "data": {
      "image/png": "[encoded data removed]",
      "text/plain": [
       "<Figure size 640x480 with 2 Axes>"
      ]
     },
     "metadata": {},
     "output_type": "display_data"
    }
   ],
   "source": [
    "from sklearn.svm import LinearSVC\n",
    "\n",
    "SVCmodel = LinearSVC(dual=False)\n",
    "SVCmodel.fit(X_train, y_train)\n",
    "model_Evaluate(SVCmodel)"
   ]
  },
  {
   "attachments": {},
   "cell_type": "markdown",
   "metadata": {},
   "source": [
    "### Logistic Regression"
   ]
  },
  {
   "cell_type": "code",
   "execution_count": 26,
   "metadata": {},
   "outputs": [
    {
     "data": {
      "text/html": [
       "Tracking run with wandb version 0.15.5"
      ],
      "text/plain": [
       "<IPython.core.display.HTML object>"
      ]
     },
     "metadata": {},
     "output_type": "display_data"
    },
    {
     "data": {
      "text/html": [
       "Run data is saved locally in <code>/home/user/project/wandb/run-20230717_053435-qzkyloh5</code>"
      ],
      "text/plain": [
       "<IPython.core.display.HTML object>"
      ]
     },
     "metadata": {},
     "output_type": "display_data"
    },
    {
     "data": {
      "text/html": [
       "Syncing run <strong><a href='https://wandb.ai/subsystem3/project/runs/qzkyloh5' target=\"_blank\">2023-07-17_05:34:35_LogisticRegression(C=2, max_iter=1000, n_jobs=-1)</a></strong> to <a href='https://wandb.ai/subsystem3/project' target=\"_blank\">Weights & Biases</a> (<a href='https://wandb.me/run' target=\"_blank\">docs</a>)<br/>"
      ],
      "text/plain": [
       "<IPython.core.display.HTML object>"
      ]
     },
     "metadata": {},
     "output_type": "display_data"
    },
    {
     "data": {
      "text/html": [
       " View project at <a href='https://wandb.ai/subsystem3/project' target=\"_blank\">https://wandb.ai/subsystem3/project</a>"
      ],
      "text/plain": [
       "<IPython.core.display.HTML object>"
      ]
     },
     "metadata": {},
     "output_type": "display_data"
    },
    {
     "data": {
      "text/html": [
       " View run at <a href='https://wandb.ai/subsystem3/project/runs/qzkyloh5' target=\"_blank\">https://wandb.ai/subsystem3/project/runs/qzkyloh5</a>"
      ],
      "text/plain": [
       "<IPython.core.display.HTML object>"
      ]
     },
     "metadata": {},
     "output_type": "display_data"
    },
    {
     "name": "stdout",
     "output_type": "stream",
     "text": [
      "              precision    recall  f1-score   support\n",
      "\n",
      "           0       0.83      0.82      0.82    159494\n",
      "           1       0.82      0.83      0.83    160506\n",
      "\n",
      "    accuracy                           0.83    320000\n",
      "   macro avg       0.83      0.83      0.83    320000\n",
      "weighted avg       0.83      0.83      0.83    320000\n",
      "\n"
     ]
    },
    {
     "data": {
      "text/html": [
       "Waiting for W&B process to finish... <strong style=\"color:green\">(success).</strong>"
      ],
      "text/plain": [
       "<IPython.core.display.HTML object>"
      ]
     },
     "metadata": {},
     "output_type": "display_data"
    },
    {
     "data": {
      "text/html": [
       "<style>\n",
       "    table.wandb td:nth-child(1) { padding: 0 10px; text-align: left ; width: auto;} td:nth-child(2) {text-align: left ; width: 100%}\n",
       "    .wandb-row { display: flex; flex-direction: row; flex-wrap: wrap; justify-content: flex-start; width: 100% }\n",
       "    .wandb-col { display: flex; flex-direction: column; flex-basis: 100%; flex: 1; padding: 10px; }\n",
       "    </style>\n",
       "<div class=\"wandb-row\"><div class=\"wandb-col\"><h3>Run history:</h3><br/><table class=\"wandb\"><tr><td>accuracy</td><td>▁</td></tr><tr><td>f1</td><td>▁</td></tr><tr><td>precision</td><td>▁</td></tr><tr><td>recall</td><td>▁</td></tr><tr><td>roc_auc</td><td>▁</td></tr></table><br/></div><div class=\"wandb-col\"><h3>Run summary:</h3><br/><table class=\"wandb\"><tr><td>accuracy</td><td>0.82575</td></tr><tr><td>f1</td><td>0.82574</td></tr><tr><td>precision</td><td>0.82583</td></tr><tr><td>recall</td><td>0.82575</td></tr><tr><td>roc_auc</td><td>0.82573</td></tr></table><br/></div></div>"
      ],
      "text/plain": [
       "<IPython.core.display.HTML object>"
      ]
     },
     "metadata": {},
     "output_type": "display_data"
    },
    {
     "data": {
      "text/html": [
       " View run <strong style=\"color:#cdcd00\">2023-07-17_05:34:35_LogisticRegression(C=2, max_iter=1000, n_jobs=-1)</strong> at: <a href='https://wandb.ai/subsystem3/project/runs/qzkyloh5' target=\"_blank\">https://wandb.ai/subsystem3/project/runs/qzkyloh5</a><br/>Synced 6 W&B file(s), 1 media file(s), 1 artifact file(s) and 0 other file(s)"
      ],
      "text/plain": [
       "<IPython.core.display.HTML object>"
      ]
     },
     "metadata": {},
     "output_type": "display_data"
    },
    {
     "data": {
      "text/html": [
       "Find logs at: <code>./wandb/run-20230717_053435-qzkyloh5/logs</code>"
      ],
      "text/plain": [
       "<IPython.core.display.HTML object>"
      ]
     },
     "metadata": {},
     "output_type": "display_data"
    },
    {
     "data": {
      "image/png": "[encoded data removed]",
      "text/plain": [
       "<Figure size 640x480 with 2 Axes>"
      ]
     },
     "metadata": {},
     "output_type": "display_data"
    }
   ],
   "source": [
    "from sklearn.linear_model import LogisticRegression\n",
    "\n",
    "LRmodel = LogisticRegression(C=2, max_iter=1000, n_jobs=-1)\n",
    "LRmodel.fit(X_train, y_train)\n",
    "model_Evaluate(LRmodel)"
   ]
  }
 ],
 "metadata": {
  "kernelspec": {
   "display_name": "Python 3",
   "language": "python",
   "name": "python3"
  },
  "language_info": {
   "codemirror_mode": {
    "name": "ipython",
    "version": 3
   },
   "file_extension": ".py",
   "mimetype": "text/x-python",
   "name": "python",
   "nbconvert_exporter": "python",
   "pygments_lexer": "ipython3",
   "version": "3.9.13"
  },
  "orig_nbformat": 4
 },
 "nbformat": 4,
 "nbformat_minor": 2
}
