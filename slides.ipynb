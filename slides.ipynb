{
 "cells": [
  {
   "cell_type": "markdown",
   "metadata": {},
   "source": [
    "# PRESENTATION SLIDES\n",
    "\n",
    "## DIRECTIONS\n",
    "\n",
    "Prepare and record a final team project presentation by the end of Week 7. \n",
    "\n",
    "Use any recording software you wish.\n",
    "\n",
    "The final project presentation is a chance to: \n",
    "\n",
    "⬜ explain your problem \n",
    "⬜ explain your approach\n",
    "⬜ provide your analysis \n",
    "⬜ provide your results\n",
    "⬜ provide your interpretation\n",
    "⬜ showcase what you have accomplished\n",
    "⬜ discuss your next step plan\n",
    "\n",
    "### TASKS\n",
    "\n",
    "⬜ upload your final team project presentation slides \n",
    "⬜ upload group presentation (between 20-30 minutes)\n",
    "⬜ ensure that the sound quality of your video is good\n",
    "⬜ each member presents an equal portion of the presentation\n",
    "✅ upload recording to a video-sharing website, such as YouTube.com or Vimeo.com - done through Vimeo with GitHub CI/CD\n",
    "⬜ share the link to the recording on the title page of your presentation slides"
   ]
  },
  {
   "cell_type": "markdown",
   "metadata": {},
   "source": [
    "This notebook is for jotting down notes for the end-of-course video presentation.\n",
    "\n",
    "IMPORTANT:\n",
    "- Must be in NON-TECHNICAL language and aimed towards a NON-TECHNICAL audience.\n"
   ]
  },
  {
   "cell_type": "markdown",
   "metadata": {},
   "source": [
    "## Slide: Title \n",
    "\n",
    "### MUST HAVE \"link to the recording on the title page of your presentation slides\""
   ]
  },
  {
   "cell_type": "markdown",
   "metadata": {},
   "source": [
    "## Slide: Introduction\n",
    "\n",
    "* about our company `subsystem3.ai`\n",
    "* visit our website: https://subsystem3.ai"
   ]
  },
  {
   "cell_type": "markdown",
   "metadata": {},
   "source": [
    "## Slide: Exploratory Data Analysis\n",
    "\n",
    "* stemming\n",
    "* lexicalization\n",
    "* stopwords\n",
    "* show WordCloud"
   ]
  },
  {
   "cell_type": "markdown",
   "metadata": {},
   "source": [
    "## Slide: Development\n",
    "\n",
    "* Used GitHub for version control\n",
    "\n",
    "* Used Slack for communication\n",
    "\n",
    "* Used `code-server` for remote development\n",
    "\n",
    "* Used GitHub workflows\n",
    "    * Continuous Integration\n",
    "    * Continuous Deployment\n",
    "\n",
    "* Used Docker for containerization\n",
    "* Used kubernetes for container orchestration\n",
    "\n",
    "* show video of GitHub workflow execution\n",
    "* show Slack notifications of results"
   ]
  },
  {
   "cell_type": "markdown",
   "metadata": {},
   "source": [
    "## Slide: Evaluation\n",
    "\n",
    "How do we keep track of how well our models are doing?\n",
    "\n",
    "ANSWER: MLOps\n",
    "\n",
    "### MLOps\n",
    "* talk about Weights & Biases\n",
    "* show picture of the dashboard"
   ]
  },
  {
   "cell_type": "markdown",
   "metadata": {},
   "source": [
    "## Slide: Algorithms\n",
    "\n",
    "### Bernoulli Naive Bayes\n",
    "\n",
    "### Linear Support Vector Classification\n",
    "\n",
    "### Logistic Regression\n"
   ]
  },
  {
   "cell_type": "markdown",
   "metadata": {},
   "source": [
    "## Slide: Deployment\n",
    "\n",
    "* We deployed our models to do real-time brand sentiment analysis\n",
    "* Twitter API\n",
    "\n",
    "### Technologies\n",
    "\n",
    "* `terraform` for infrastructure-as-code (IaC)\n",
    "* `ansible` for configuration management"
   ]
  },
  {
   "cell_type": "markdown",
   "metadata": {},
   "source": [
    "## Slide: Results\n",
    "\n",
    "* confusion matrices\n",
    "* accuracy scores\n",
    "* precision scores\n",
    "* recall scores\n",
    "* f1 scores"
   ]
  },
  {
   "cell_type": "markdown",
   "metadata": {},
   "source": [
    "## Acknowledgements\n",
    "\n",
    "* Advisor: Dr. Andrew Van Benschoten\n",
    "    * Thank you for your guidance and support\n",
    "\n",
    "* Made possible by Dr. Ebrahim Tarshizi\n",
    "    * Director of Applied Artificial Intelligence at University of San Diego"
   ]
  }
 ],
 "metadata": {
  "language_info": {
   "name": "python"
  },
  "orig_nbformat": 4
 },
 "nbformat": 4,
 "nbformat_minor": 2
}
