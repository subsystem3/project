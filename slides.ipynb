{
 "cells": [
  {
   "cell_type": "markdown",
   "metadata": {},
   "source": [
    "# Presentation Slides\n",
    "\n",
    "This notebook is for jotting down notes for the end-of-course video presentation.\n",
    "\n",
    "IMPORTANT:\n",
    "\n",
    "- Must be in NON-TECHNICAL language and aimed towards a NON-TECHNICAL audience.\n"
   ]
  },
  {
   "cell_type": "markdown",
   "metadata": {},
   "source": [
    "## Exploratory Data Analysis\n",
    "\n",
    "* stemming\n",
    "* lexicalization\n",
    "* stopwords\n",
    "* show WordCloud"
   ]
  },
  {
   "cell_type": "markdown",
   "metadata": {},
   "source": [
    "## Development\n",
    "\n",
    "* Used GitHub for version control\n",
    "\n",
    "* Used Slack for communication\n",
    "\n",
    "* Used `code-server` for remote development\n",
    "\n",
    "* Used GitHub workflows\n",
    "    * Continuous Integration\n",
    "    * Continuous Deployment\n",
    "\n",
    "* Used Docker for containerization\n",
    "* Used kubernetes for container orchestration\n",
    "\n",
    "* show video of GitHub workflow execution\n",
    "* show Slack notifications of results"
   ]
  },
  {
   "cell_type": "markdown",
   "metadata": {},
   "source": [
    "## Evaluation\n",
    "\n",
    "How do we keep track of how well our models are doing?\n",
    "\n",
    "ANSWER: MLOps\n",
    "\n",
    "### MLOps\n",
    "* talk about Weights & Biases\n",
    "* show picture of the dashboard"
   ]
  },
  {
   "cell_type": "markdown",
   "metadata": {},
   "source": [
    "## Algorithms\n",
    "\n",
    "### Bernoulli Naive Bayes\n",
    "\n",
    "### Linear Support Vector Classification\n",
    "\n",
    "### Logistic Regression\n"
   ]
  },
  {
   "cell_type": "markdown",
   "metadata": {},
   "source": [
    "## Deployment to Real-Time\n",
    "\n",
    "* We deployed our models using FastAPI, Docker, and the Twitter API."
   ]
  },
  {
   "cell_type": "markdown",
   "metadata": {},
   "source": [
    "## Results\n",
    "\n"
   ]
  },
  {
   "cell_type": "markdown",
   "metadata": {},
   "source": [
    "## Acknowledgements"
   ]
  }
 ],
 "metadata": {
  "language_info": {
   "name": "python"
  },
  "orig_nbformat": 4
 },
 "nbformat": 4,
 "nbformat_minor": 2
}
