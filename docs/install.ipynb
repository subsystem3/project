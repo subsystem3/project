{
 "cells": [
  {
   "cell_type": "code",
   "execution_count": null,
   "metadata": {},
   "outputs": [],
   "source": [
    "# INSTALL CUDA ON UBUNTU 22.04\n",
    "!wget https://developer.download.nvidia.com/compute/cuda/repos/ubuntu2204/x86_64/cuda-keyring_1.1-1_all.deb\n",
    "!sudo dpkg -i cuda-keyring_1.1-1_all.deb\n",
    "!sudo apt-get update\n",
    "!sudo apt-get -y install cuda"
   ]
  }
 ],
 "metadata": {
  "language_info": {
   "name": "python"
  },
  "orig_nbformat": 4
 },
 "nbformat": 4,
 "nbformat_minor": 2
}
